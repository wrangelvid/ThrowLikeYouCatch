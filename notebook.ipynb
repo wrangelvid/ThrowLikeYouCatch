{
 "cells": [
  {
   "cell_type": "markdown",
   "source": "# Throw like you Catch\n### End-to-end Robotic Throwing and Catching system\n### 6.843 Final Project at MIT by David von Wrangel, Ria Sonecha, Shreya Prandit\n#### Run this notebook and see for yourself",
   "metadata": {
    "tags": [],
    "cell_id": "00000-feec7eee-7296-43dd-b557-7c3152f2a2e3",
    "deepnote_app_coordinates": {
     "x": 0,
     "y": 174,
     "w": 12,
     "h": 5
    },
    "deepnote_cell_type": "markdown"
   }
  },
  {
   "cell_type": "code",
   "metadata": {
    "tags": [],
    "cell_id": "00009-94fc4926-4926-4cfb-839f-7dbddaa2efb9",
    "deepnote_to_be_reexecuted": false,
    "source_hash": "3949292f",
    "execution_start": 1639167693745,
    "execution_millis": 2457,
    "deepnote_app_coordinates": {
     "x": 0,
     "y": 0,
     "w": 12,
     "h": 5
    },
    "deepnote_cell_type": "code"
   },
   "source": "from pydrake.all import (\n    DiagramBuilder,\n    AddMultibodyPlantSceneGraph,\n    Parser,\n    PassThrough,\n    Demultiplexer,Multiplexer,\n    MultibodyPlant,\n    InverseDynamicsController,\n    Adder,\n    JacobianWrtVariable,\n    StateInterpolatorWithDiscreteDerivative,\n    SchunkWsgPositionController,\n    MakeMultibodyStateToWsgStateSystem,\n    SpatialVelocity,SpatialInertia, UnitInertia,\n    RigidTransform, RollPitchYaw, RotationMatrix,\n    Sphere, Box, \n    SnoptSolver,\n    AbstractValue,\n    ConstantVectorSource, TrajectorySource,\n    MeshcatVisualizerCpp, MeshcatVisualizerParams, \n    CoulombFriction,\n    MeshcatVisualizer,\n    Simulator, Integrator, DiscreteDerivative,\n    PiecewisePose,BasicVector,\n    PiecewiseQuaternionSlerp,PiecewisePolynomial,\n    FindResourceOrThrow,\n    Solve, MathematicalProgram,eq, le, ge,\n    LeafSystem, FixedOffsetFrame,\n    DifferentialInverseKinematicsParameters,DifferentialInverseKinematicsIntegrator,DoDifferentialInverseKinematics, \n    AddFrame, Frame,FixedOffsetFrame,\n)\nfrom itertools import groupby\nfrom pydrake.multibody import inverse_kinematics\nfrom manipulation.scenarios import AddRgbdSensors, AddShape\nfrom manipulation.utils import FindResource\nfrom manipulation.meshcat_cpp_utils import StartMeshcat, AddMeshcatTriad\n\n\nimport numpy as np\nimport matplotlib.pyplot as plt \nimport altair as alt\nimport ipywidgets\nimport pydot\nimport pydrake.all\nimport os\nfrom IPython.display import display, SVG, HTML",
   "outputs": [],
   "execution_count": null
  },
  {
   "cell_type": "markdown",
   "source": "## 1. Parameters and Helper functions to create the Kuka iiwa7 with a Tennisball\n#### Click on the meshcat link to view the simulation once you ran the rest",
   "metadata": {
    "tags": [],
    "cell_id": "00001-36026854-9f89-4f55-b506-059f0e83bffc",
    "deepnote_app_coordinates": {
     "x": 0,
     "y": 6,
     "w": 12,
     "h": 5
    },
    "deepnote_cell_type": "markdown"
   }
  },
  {
   "cell_type": "code",
   "metadata": {
    "tags": [],
    "cell_id": "00002-842c1a02-dab5-4e93-a9dc-d1f7468716be",
    "deepnote_to_be_reexecuted": false,
    "source_hash": "67118576",
    "execution_start": 1639167696213,
    "execution_millis": 22,
    "deepnote_output_heights": [
     21
    ],
    "deepnote_app_coordinates": {
     "x": 0,
     "y": 18,
     "w": 12,
     "h": 5
    },
    "deepnote_cell_type": "code"
   },
   "source": "meshcat = StartMeshcat()",
   "outputs": [
    {
     "data": {
      "text/plain": "<IPython.core.display.HTML object>",
      "text/html": "Meshcat is now available at <a href=\"https://3ffed1bb-60d7-4025-872d-1c12596bf740.deepnoteproject.com\">https://3ffed1bb-60d7-4025-872d-1c12596bf740.deepnoteproject.com</a>"
     },
     "metadata": {},
     "output_type": "display_data"
    }
   ],
   "execution_count": null
  },
  {
   "cell_type": "code",
   "metadata": {
    "tags": [],
    "cell_id": "00004-ce68314d-56a4-4ece-8c19-59e64cab0c5e",
    "deepnote_to_be_reexecuted": false,
    "source_hash": "ebbb16b3",
    "execution_start": 1639167696242,
    "execution_millis": 9,
    "deepnote_output_heights": [
     193.828125
    ],
    "deepnote_app_coordinates": {
     "x": 0,
     "y": 12,
     "w": 12,
     "h": 5
    },
    "deepnote_cell_type": "code"
   },
   "source": "#parameters\nsphere_mass = 0.056\nsphere_color = np.array([223,255,79,255])/255\nsphere_mu = 0.8\nsphere_r = 0.033",
   "outputs": [],
   "execution_count": null
  },
  {
   "cell_type": "code",
   "metadata": {
    "tags": [],
    "cell_id": "00007-38d3526a-61ae-4aaa-9a4d-2c3fdc964f15",
    "deepnote_to_be_reexecuted": false,
    "source_hash": "3b965e32",
    "execution_start": 1639167696276,
    "execution_millis": 6,
    "deepnote_output_heights": [
     458
    ],
    "deepnote_app_coordinates": {
     "x": 0,
     "y": 24,
     "w": 12,
     "h": 5
    },
    "deepnote_cell_type": "code"
   },
   "source": "def AddIiwa(plant, collision_model=\"no_collision\", offset = RigidTransform(RotationMatrix(), [0,0,0]), name = \"iiwa\"):\n    sdf_path = pydrake.common.FindResourceOrThrow(\n        \"drake/manipulation/models/iiwa_description/iiwa7/\"\n        f\"iiwa7_{collision_model}.sdf\")\n\n    parser = pydrake.multibody.parsing.Parser(plant)\n    iiwa = parser.AddModelFromFile(sdf_path, name)\n    plant.WeldFrames(plant.world_frame(), plant.GetFrameByName(\"iiwa_link_0\",iiwa), offset)\n\n    # Set default positions:\n    q0 = [0.0, 0.1, 0, -1.2, 0, 1.6, 0]\n    index = 0\n    for joint_index in plant.GetJointIndices(iiwa):\n        joint = plant.get_mutable_joint(joint_index)\n        if isinstance(joint, pydrake.multibody.tree.RevoluteJoint):\n            joint.set_default_angle(q0[index])\n            index += 1\n\n    return iiwa\n\n\ndef AddWsg(plant, iiwa_model_instance, roll=np.pi / 2.0, welded=False, name = \"gripper\"):\n    parser = pydrake.multibody.parsing.Parser(plant)\n    if welded:\n        parser.package_map().Add(\n            \"wsg_50_description\",\n            os.path.dirname(\n                pydrake.common.FindResourceOrThrow(\n                    \"drake/manipulation/models/wsg_50_description/package.xml\"))\n        )\n        gripper = parser.AddModelFromFile(\n            FindResource(\"models/schunk_wsg_50_welded_fingers.sdf\"), name)\n    else:\n        gripper = parser.AddModelFromFile(\n            pydrake.common.FindResourceOrThrow(\n                \"drake/manipulation/models/\"\n                \"wsg_50_description/sdf/schunk_wsg_50_no_tip.sdf\"), name)\n    \n    X_7G = RigidTransform(RollPitchYaw(np.pi / 2.0, 0, roll), [0, 0, 0.114])\n    plant.WeldFrames(plant.GetFrameByName(\"iiwa_link_7\", iiwa_model_instance),\n                     plant.GetFrameByName(\"body\", gripper), X_7G)\n\n    #wsg_offset = RigidTransform(RotationMatrix(), [0,0.11,0]) #This is where it will grab the sphere\n    #wsg_offset_frame = FixedOffsetFrame(\"wsg_offset\",plant.GetFrameByName(\"body\"), wsg_offset)\t \n    #plant.AddFrame(wsg_offset_frame)\n\n    return gripper\n    \ndef CreateIiwaControllerPlant(offset = RigidTransform(RotationMatrix(), [0,0,0])):\n    \"\"\"creates plant that includes only the robot and gripper, used for controllers.\"\"\"\n    sim_timestep = 1e-3\n    plant_robot = MultibodyPlant(sim_timestep)\n    iiwa = AddIiwa(plant_robot,offset=offset)\n    wsg = AddWsg(plant_robot, iiwa, welded = True)  #need to weld it for diffIK so that jaws don't have Dofs\n\n    plant_robot.mutable_gravity_field().set_gravity_vector([0, 0, 0])\n    plant_robot.Finalize()\n\n    context = plant_robot.CreateDefaultContext()\n\n    q0 = plant_robot.GetPositions(context)\n    return plant_robot, q0",
   "outputs": [],
   "execution_count": null
  },
  {
   "cell_type": "code",
   "metadata": {
    "tags": [],
    "cell_id": "00007-3de4efa7-cf39-4af4-af0f-8c14781b17e4",
    "deepnote_to_be_reexecuted": false,
    "source_hash": "e46f4d41",
    "execution_start": 1639167696332,
    "execution_millis": 1,
    "deepnote_app_coordinates": {
     "x": 0,
     "y": 30,
     "w": 12,
     "h": 5
    },
    "deepnote_cell_type": "code"
   },
   "source": "class PoseSource(LeafSystem):\n    def __init__(self, traj):\n        LeafSystem.__init__(self)\n        self.traj = traj\n        self.DeclareAbstractOutputPort(\"Pose\", lambda: AbstractValue.Make(RigidTransform()),self.CalcPose)\n        self.DeclareVectorOutputPort(\"Velocity\", BasicVector(6), self.CalcVelocity)\n        self.DeclareVectorOutputPort(\"Acceleration\", BasicVector(6), self.CalcAcceleration)\n    \n    def CalcPose(self, context, output):\n        output.set_value(self.traj.GetPose(context.get_time()))\n    \n    def CalcVelocity(self, context, output):\n        output.set_value(self.traj.GetVelocity(context.get_time()))\n\n    def CalcAcceleration(self, context, output):\n        output.set_value(self.traj.GetAcceleration(context.get_time()))",
   "outputs": [],
   "execution_count": null
  },
  {
   "cell_type": "markdown",
   "source": "### Reducing Lag is Key!\nTo get the most out of the Iversedynamics controller, we made an optimization based Differential Inverse dyanmics controller that takes account for singularities. While respecting joint limits, the controller returns desired joint velocities where the integral and derivatives yield smooth joint positions and accelerations.",
   "metadata": {
    "tags": [],
    "cell_id": "00007-24bb76ac-20af-432e-8a1b-9ee7324028cc",
    "deepnote_app_coordinates": {
     "x": 0,
     "y": 180,
     "w": 12,
     "h": 5
    },
    "deepnote_cell_type": "markdown"
   }
  },
  {
   "cell_type": "code",
   "metadata": {
    "tags": [],
    "cell_id": "00007-6f040dc0-3849-4fac-9ed7-c1be3a125fa8",
    "deepnote_to_be_reexecuted": false,
    "source_hash": "bfb46425",
    "execution_start": 1639167696333,
    "execution_millis": 1,
    "deepnote_app_coordinates": {
     "x": 0,
     "y": 36,
     "w": 12,
     "h": 5
    },
    "deepnote_cell_type": "code"
   },
   "source": "class DifferentialIKCL(LeafSystem):\n    \"\"\"\n    A simple system that wraps calls to the DifferentialInverseKinematics API\n    Here, we also feed in the measured positions by the iiwa plant to reduce lag\n    \"\"\"\n    def __init__(self, robot, frame_E, parameters):\n        LeafSystem.__init__(self)\n        self.robot = robot\n        self.frame_E = frame_E\n        self._iiwa = robot.GetModelInstanceByName(\"iiwa\")\n\n        self.parameters = parameters\n        self.robot_context = robot.CreateDefaultContext()\n        # Confirm that all velocities are zero (they will BE be reset below).\n        assert not self.robot.GetPositionsAndVelocities(self.robot_context)[-robot.num_velocities():].any()\n\n\n        #set input port\n        self.V_port = self.DeclareVectorInputPort(\"V_WE_desired\", BasicVector(6))\n        self.q_port = self.DeclareVectorInputPort(\"iiwa_position\", BasicVector(7))\n\n        # Provide the output as desired positions.\n        self.DeclareVectorOutputPort(\"iiwa_velocity\",BasicVector(7), self.CalcOutput)\n\n    def CalcOutput(self, context, output):\n        V_WE_desired = self.V_port.Eval(context)\n        q = self.q_port.Eval(context)\n        self.robot.SetPositions(self.robot_context, self._iiwa, q)\n\n\n        result = DoDifferentialInverseKinematics(self.robot,\n                                                 self.robot_context,\n                                                 V_WE_desired, self.frame_E,\n                                                 self.parameters)\n        if (result.status != result.status.kSolutionFound):\n            print(\"Differential IK could not find a solution.\")\n\n        output.SetFromVector(result.joint_velocities)",
   "outputs": [],
   "execution_count": null
  },
  {
   "cell_type": "code",
   "metadata": {
    "tags": [],
    "cell_id": "00005-6f8e56df-4370-48b5-97ef-a1a33b9edf96",
    "deepnote_to_be_reexecuted": false,
    "source_hash": "2849cde9",
    "execution_start": 1639167696335,
    "execution_millis": 2938,
    "deepnote_output_heights": [
     611
    ],
    "deepnote_app_coordinates": {
     "x": 0,
     "y": 42,
     "w": 12,
     "h": 5
    },
    "deepnote_cell_type": "code"
   },
   "source": "def MakeManipulationStation(time_step=0.002, offset = RigidTransform(RotationMatrix(), [0,0,0])):\n    builder = DiagramBuilder()\n\n    # Add (only) the iiwa, WSG, and cameras to the scene.\n    plant, scene_graph =AddMultibodyPlantSceneGraph(\n        builder, time_step=time_step)\n    \n    #plant.mutable_gravity_field().set_gravity_vector(gravity)\n    iiwa = AddIiwa(plant, offset = offset)\n    wsg = AddWsg(plant, iiwa)\n    Parser(plant).AddModelFromFile(\n        FindResource(\"models/camera_box.sdf\"), \"camera0\")\n\n    # add ground\n    Parser(plant).AddModelFromFile('ground.urdf', \"ground\")\n\n    # add tennisball\n    AddShape(plant, Sphere(sphere_r), name=\"sphere\", mass=sphere_mass, mu=sphere_mu, color=sphere_color)\n    sphere = plant.GetBodyByName(\"sphere\")     \n\n    plant.Finalize()\n\n    num_iiwa_positions = plant.num_positions(iiwa)\n\n    # I need a PassThrough system so that I can export the input port.\n    iiwa_state = builder.AddSystem(PassThrough(num_iiwa_positions +  plant.num_velocities(iiwa)))\n    builder.ExportOutput(iiwa_state.get_output_port(), \"iiwa_state_command\")\n\n    iiwa_velocity = builder.AddSystem(PassThrough(6))\n    builder.ExportInput(iiwa_velocity.get_input_port(), \"iiwa_velocity\")\n    builder.ExportOutput(iiwa_velocity.get_output_port(), \"iiwa_velocity_command\")\n\n    # Export the iiwa \"state\" outputs.\n    demux = builder.AddSystem(Demultiplexer(\n        2 * num_iiwa_positions, num_iiwa_positions))\n    builder.Connect(plant.get_state_output_port(iiwa), demux.get_input_port())\n    builder.ExportOutput(demux.get_output_port(0), \"iiwa_position_measured\")\n    builder.ExportOutput(demux.get_output_port(1), \"iiwa_velocity_estimated\")\n    builder.ExportOutput(plant.get_state_output_port(iiwa), \"iiwa_state_estimated\")\n\n    # Make the plant for the iiwa controller to use.\n    controller_plant = MultibodyPlant(time_step=time_step)\n    controller_iiwa = AddIiwa(controller_plant, offset = offset)\n    AddWsg(controller_plant, controller_iiwa, welded=True)\n    controller_plant.Finalize()\n\n    # Add the iiwa controller\n    iiwa_controller = builder.AddSystem(\n        InverseDynamicsController(\n            controller_plant,\n            kp=[100]*num_iiwa_positions,\n            ki=[1]*num_iiwa_positions,\n            kd=[20]*num_iiwa_positions,\n            has_reference_acceleration=True))\n    iiwa_controller.set_name(\"iiwa_controller\")\n    builder.Connect(\n        plant.get_state_output_port(iiwa), iiwa_controller.get_input_port_estimated_state())\n\n    # Add in the feed-forward torque\n    adder = builder.AddSystem(Adder(2, num_iiwa_positions))\n    builder.Connect(iiwa_controller.get_output_port_control(),\n                    adder.get_input_port(0))\n    # Use a PassThrough to make the port optional (it will provide zero values if not connected).\n    torque_passthrough = builder.AddSystem(\n        PassThrough([0]*num_iiwa_positions))\n    builder.Connect(torque_passthrough.get_output_port(), adder.get_input_port(1))\n    builder.ExportInput(torque_passthrough.get_input_port(), \"iiwa_feedforward_torque\")\n    builder.Connect(adder.get_output_port(), plant.get_actuation_input_port(iiwa))\n\n    builder.Connect(iiwa_state.get_output_port(), iiwa_controller.get_input_port_desired_state())\n\n    # Export commanded torques.\n    #builder.ExportOutput(adder.get_output_port(), \"iiwa_torque_commanded\")inverse_kinematics\n    #builder.ExportOutput(adder.get_output_port(), \"iiwa_torque_measured\")\n\n    # DiffIK Controller\n    plant_robot, _ = CreateIiwaControllerPlant(offset = offset) #create for controller\n\n    params = DifferentialInverseKinematicsParameters(plant_robot.num_positions(),plant_robot.num_velocities())\n    params.set_timestep(time_step)\n    \n    #iiwa7_velocity_limits = np.array([1.71, 1.71,1.745, 2.26, 2.44, 3.14, 3.14])\n    params.set_joint_velocity_limits((plant_robot.GetVelocityLowerLimits(),plant_robot.GetVelocityUpperLimits()))\n\n    params.set_joint_position_limits((plant_robot.GetPositionLowerLimits(),plant_robot.GetPositionUpperLimits()))\n\n    gripper_frame = plant_robot.GetBodyByName(\"body\").body_frame()\n    robot_context = plant_robot.CreateDefaultContext()\n\n    DiffIK = builder.AddSystem(DifferentialIKCL(plant_robot, gripper_frame, params))                  \n    #connect DiffIK\n    builder.Connect(iiwa_velocity.get_output_port(), DiffIK.GetInputPort(\"V_WE_desired\"))\n    builder.Connect(demux.get_output_port(0), DiffIK.GetInputPort(\"iiwa_position\"))\n\n    integrator = builder.AddSystem(Integrator(7))\n    integrator.set_name(\"integrator\")\n    builder.Connect(DiffIK.get_output_port(), integrator.get_input_port())\n\n    mux = builder.AddSystem(Multiplexer([plant_robot.num_positions(), plant_robot.num_velocities()]))\n    builder.Connect(integrator.get_output_port(), mux.get_input_port(0))\n    builder.Connect(DiffIK.get_output_port(), mux.get_input_port(1) )\n    builder.Connect(mux.get_output_port(), iiwa_state.get_input_port())\n\n    #accelerations\n    acceleration = builder.AddSystem(DiscreteDerivative(7, time_step))\n    builder.Connect(DiffIK.get_output_port(),acceleration.get_input_port())\n    builder.Connect(acceleration.get_output_port(),iiwa_controller.get_input_port_desired_acceleration())\n\n\n    # Wsg controller.\n    wsg_controller = builder.AddSystem(SchunkWsgPositionController(kp_command=2000.0, kd_command=5.0, kp_constraint=2000.0, kd_constraint=5.0, default_force_limit=40.0))\n    wsg_controller.set_name(\"wsg_controller\")\n    builder.Connect(wsg_controller.get_generalized_force_output_port(),             \n                    plant.get_actuation_input_port(wsg))\n    builder.Connect(plant.get_state_output_port(wsg), wsg_controller.get_state_input_port())\n    builder.ExportInput(wsg_controller.get_desired_position_input_port(), \"wsg_position\")\n    builder.ExportInput(wsg_controller.get_force_limit_input_port(), \"wsg_force_limit\")\n    wsg_mbp_state_to_wsg_state = builder.AddSystem(\n        MakeMultibodyStateToWsgStateSystem())\n    builder.Connect(plant.get_state_output_port(wsg), wsg_mbp_state_to_wsg_state.get_input_port())\n    builder.ExportOutput(wsg_mbp_state_to_wsg_state.get_output_port(), \"wsg_state_measured\")\n    builder.ExportOutput(wsg_controller.get_grip_force_output_port(), \"wsg_force_measured\")\n\n    # Cameras.\n    AddRgbdSensors(builder, plant, scene_graph)\n\n    # Export \"cheat\" ports.\n    builder.ExportOutput(scene_graph.get_query_output_port(), \"geometry_query\")\n    builder.ExportOutput(plant.get_contact_results_output_port(), \"contact_results\")\n    builder.ExportOutput(plant.get_state_output_port(), \"plant_continuous_state\")\n\n    builder.ExportOutput(plant.get_body_poses_output_port(), \"body_poses\")\n    builder.ExportOutput(plant.get_body_spatial_velocities_output_port(), \"body_velocities\")\n\n    diagram = builder.Build()\n\n    context = diagram.CreateDefaultContext()\n    diagram.Publish(context)\n\n    #init integrator\n    q0 = diagram.GetOutputPort(\"iiwa_position_measured\").Eval(context)\n    integrator.set_integral_value(integrator.GetMyContextFromRoot(context),list(q0))\n\n    return diagram, plant, integrator\n\ndiagram, plant,integrator = MakeManipulationStation()\n\n#display(SVG(pydot.graph_from_dot_data(diagram.GetGraphvizString())[0].create_svg()))",
   "outputs": [],
   "execution_count": null
  },
  {
   "cell_type": "markdown",
   "source": "### 2. Get the Sphere Trajectory\nGiven inital conditions of the Target, we simulate its trajectory while getting its poses and velocities at discret timesteps",
   "metadata": {
    "tags": [],
    "cell_id": "00004-9902da09-ab7c-4d22-82cb-31350003779e",
    "deepnote_app_coordinates": {
     "x": 0,
     "y": 48,
     "w": 12,
     "h": 5
    },
    "deepnote_cell_type": "markdown"
   }
  },
  {
   "cell_type": "code",
   "metadata": {
    "tags": [],
    "cell_id": "00013-0b8e1843-aaa8-4adf-824c-87da6403b1ab",
    "deepnote_to_be_reexecuted": false,
    "source_hash": "c24fc8d2",
    "execution_start": 1639167699274,
    "execution_millis": 0,
    "deepnote_output_heights": [
     78.75
    ],
    "deepnote_app_coordinates": {
     "x": 0,
     "y": 60,
     "w": 12,
     "h": 5
    },
    "deepnote_cell_type": "code"
   },
   "source": "def GetSpherePose(time_delta, p_init, v_init, time_step=0.002):\n    \"\"\"\n        Given an iniital translational positition/velocity we make an empty world\n        with the ground being at 0\n        This function will step through time, pull out the poses and velocities of the sphere and terminates\n        when the ball crosses the Z threshold\n    \"\"\"\n    z_threshold = 0.2\n    builder = DiagramBuilder()\n\n    plant, scene_graph =AddMultibodyPlantSceneGraph(builder, time_step=time_step)\n    #plant.mutable_gravity_field().set_gravity_vector(gravity)\n    # add ground\n    Parser(plant).AddModelFromFile('ground.urdf', \"ground\")\n\n    # add tennisball\n    AddShape(plant, Sphere(sphere_r), name=\"sphere\", mass=sphere_mass, mu=sphere_mu, color=sphere_color)\n    sphere = plant.GetBodyByName(\"sphere\")     \n\n    plant.Finalize()\n\n    diagram = builder.Build()\n\n    simulator = Simulator(diagram)\n    context = simulator.get_mutable_context()\n    plant_context = plant.GetMyContextFromRoot(context)\n\n    #initial condition\n    v_WSphere = SpatialVelocity(w=[0, 0, 0], v=v_init)\n    x_WSphere = RigidTransform(p=p_init)\n    plant.SetFreeBodyPose(plant_context, sphere, x_WSphere)\n    plant.SetFreeBodySpatialVelocity(context=plant_context, body=sphere, V_WB=v_WSphere)\n\n    simulator.set_target_realtime_rate(0)\n\n\n    pose_list = []\n    V_list = []\n    time_list = []\n    t = 0\n    while True:\n        simulator.AdvanceTo(t)\n        X = plant.get_body_poses_output_port().Eval(plant_context)[int(sphere.index())]\n        V = plant.get_body_spatial_velocities_output_port().Eval(plant_context)[int(sphere.index())]\n\n        Vx, Vy, Vz = V.translational()\n        Px, Py, Pz = X.translation()\n        \n        if Pz < z_threshold:\n            break\n        pose_list.append(X)\n        V_list.append(V)\n        time_list.append(t)\n        t += time_delta\n\n    return pose_list, V_list, time_list",
   "outputs": [],
   "execution_count": null
  },
  {
   "cell_type": "markdown",
   "source": "### 3. Lets Plan the Robot's trajectory to intercept it\nTo speed up computation, we rule out all sphere poses that are not within the reachable hemisphere.\nThen, we use Inverse Kinematics to find continous segments along the Balls natural trajectory where we can intercept it while adhering to joint velocities and position constraints. Further, we force the grippers z-axis to be aligned with the velocity vector of the sphere so that it doesn't collide with the Jaws. We take the longest segment and run forward kinematics to find the new optimal poses for grasping the ball.",
   "metadata": {
    "tags": [],
    "cell_id": "00012-64642362-0457-4ad4-99ce-7bfb9fc6e2ce",
    "deepnote_app_coordinates": {
     "x": 0,
     "y": 186,
     "w": 12,
     "h": 5
    },
    "deepnote_cell_type": "markdown"
   }
  },
  {
   "cell_type": "code",
   "metadata": {
    "tags": [],
    "cell_id": "00009-9fca8bd8-1e9b-47e5-ace7-94ab92f68a41",
    "deepnote_to_be_reexecuted": false,
    "source_hash": "9a3e7337",
    "execution_start": 1639167699275,
    "execution_millis": 0,
    "deepnote_app_coordinates": {
     "x": 0,
     "y": 54,
     "w": 12,
     "h": 5
    },
    "deepnote_cell_type": "code"
   },
   "source": "def RunIKCatch(plant, q0, gripper_frame, pose_desired, velocity_vector, time_delta, velocity_lower_limit, velocity_upper_limit, enforce_velocity_constraint = False):\n    ik = inverse_kinematics.InverseKinematics(plant)\n    ik.AddPositionConstraint(\n        gripper_frame, [0, 0.09, 0], plant.world_frame(), \n        pose_desired.translation(), pose_desired.translation())\n    ik.AddAngleBetweenVectorsConstraint(gripper_frame, np.array([[0],[0],[1]]), plant.world_frame(), velocity_vector.translational().reshape(3,1), 0, 0)\n    prog = ik.get_mutable_prog()\n    q = ik.q()\n    \n    prog.AddQuadraticErrorCost(np.identity(len(q)), q0, q)\n    if enforce_velocity_constraint:\n        prog.AddBoundingBoxConstraint((velocity_lower_limit*time_delta) + q0, (velocity_upper_limit*time_delta) + q0, q)\n    prog.SetInitialGuess(q, q0)\n    result = Solve(ik.prog())\n    if not result.is_success():\n        # print(\"IK failed\")\n        return None\n    q1 = result.GetSolution(q)\n    return q1\n",
   "outputs": [],
   "execution_count": null
  },
  {
   "cell_type": "code",
   "metadata": {
    "tags": [],
    "cell_id": "00013-2840a7c3-4378-462f-9cae-64b640a66bcb",
    "deepnote_to_be_reexecuted": false,
    "source_hash": "aaee199b",
    "execution_start": 1639167699275,
    "execution_millis": 1,
    "deepnote_output_heights": [
     78.80000305175781
    ],
    "deepnote_app_coordinates": {
     "x": 0,
     "y": 66,
     "w": 12,
     "h": 5
    },
    "deepnote_cell_type": "code"
   },
   "source": "#trajectory matching\ndef filter_reachable_poses_reorientate(pose_lst,v_lst, t_lst, offset, t_init):\n  ik_plant, q0 = CreateIiwaControllerPlant(offset = offset)\n  ik_context = ik_plant.CreateDefaultContext()\n\n  velocity_lower_bound = ik_plant.GetVelocityLowerLimits()\n  velocity_upper_bound = ik_plant.GetVelocityUpperLimits()\n  \n  q_list = [q0]\n  q_last_valid = q0\n\n  world_frame = ik_plant.world_frame()\n  gripper_frame = ik_plant.GetFrameByName(\"body\")\n\n  time_delta_list = list(np.array(t_lst[1:]) - np.array(t_lst[:-1]))\n  for idx, (pose_desired, velocity_vector, time_delta) in enumerate(zip(pose_lst, v_lst, time_delta_list)):\n    enforce_velocity_limit = True #always enforce velocity limit\n    if np.all(q_last_valid == q0):\n      enforce_velocity_limit = True\n      time_delta = t_lst[idx] - t_init #lets see if we can even reach the trajectory in time\n\n    q_next = RunIKCatch(ik_plant, q_last_valid, gripper_frame, pose_desired, velocity_vector, time_delta, velocity_lower_bound, velocity_upper_bound, enforce_velocity_limit)\n    q_list.append(q_next)\n    if q_next is None:\n        q_last_valid = q0\n    else:\n        q_last_valid = q_next\n \n  #lets output longest segment \n  #zip everything together\n  qvt = list(zip(q_list,v_lst,t_lst))\n  segments = [list(g) for k, g in groupby(qvt, lambda x: not x[0] is None) if k]\n  best_segment = max(segments, key=len)\n\n  #unzipo best segment \n  q_list, v_list, t_list = list(zip(*best_segment))\n\n  #find new poses with forward kinematics\n  def ForwardKinematics(q):\n    ik_plant.SetPositions(ik_context, q)\n    return ik_plant.EvalBodyPoseInWorld(ik_context, gripper_frame.body())\n\n  new_pose_list = np.array(list(map(lambda q: ForwardKinematics(q), list(q_list))))\n\n  return new_pose_list, np.array(v_list), np.array(t_list)\n ",
   "outputs": [],
   "execution_count": null
  },
  {
   "cell_type": "markdown",
   "source": "### 4. Resample timesteps for smooth inteception\nEven though our DiffIK controller is amazing, there usually exists a very sharp corner between the Balls trajectory and the robot having to move to it from its inital configuration. To avoid that issue we just modify the arrival time such that we get to the Balls trajectory early, then match its trajectory. To avoid the ball slipping through the fingers after grasping it, we are slowly deaccelerating the Ball by stretching the time.",
   "metadata": {
    "tags": [],
    "cell_id": "00015-d344551a-54f7-4f3f-8b95-f78c306abc39",
    "deepnote_app_coordinates": {
     "x": 0,
     "y": 192,
     "w": 12,
     "h": 5
    },
    "deepnote_cell_type": "markdown"
   }
  },
  {
   "cell_type": "code",
   "metadata": {
    "tags": [],
    "cell_id": "00014-bc770e54-63bb-44e8-adc2-5180c0afb855",
    "deepnote_to_be_reexecuted": false,
    "source_hash": "cf589250",
    "execution_start": 1639167699276,
    "execution_millis": 1,
    "deepnote_app_coordinates": {
     "x": 0,
     "y": 72,
     "w": 12,
     "h": 5
    },
    "deepnote_cell_type": "code"
   },
   "source": "def MakeCatchingTrajectory(X_Winit, V_Winit, t_init, p_init, v_init, offset, time_delta = 0.002, do_plots = False):\n    #Get Sphere Trajectory given initial condition\n    raw_pose_lst, raw_V_list, raw_t_lst = GetSpherePose(time_delta, p_init, v_init, time_step=time_delta/2)\n    #offset times of sphere poses\n    raw_t_lst = np.array(raw_t_lst) + t_init\n\n    #Filter all Sphere poses that are definetly not reachable\n    #raw_pose_lst is X_WSphere\n    reach_readius = 1.2 #meter\n    can_reach_start = 0\n    can_reach_end = len(raw_pose_lst)-1\n    for can_reach_start, X_WSphere in enumerate(raw_pose_lst):\n        if np.linalg.norm(offset.inverse().multiply(X_WSphere).translation()) < reach_readius:\n            # can reach it \n            break\n    \n    for can_reach_end, X_WSphere in list(enumerate(raw_pose_lst))[::-1]:\n        if np.linalg.norm(offset.inverse().multiply(X_WSphere).translation()) < reach_readius:\n            # can reach it \n            break\n\n    raw_pose_lst, raw_V_list, raw_t_lst = raw_pose_lst[can_reach_start:can_reach_end], raw_V_list[can_reach_start:can_reach_end], raw_t_lst[can_reach_start:can_reach_end]\n    \n    X_reach, V_reach, time_reach = filter_reachable_poses_reorientate(raw_pose_lst, raw_V_list, raw_t_lst, offset, t_init)\n    t_reach = 0.5 + t_init #this is how long it takes to get to any point \n    X_reach = X_reach[np.where(time_reach >= t_reach)]\n    time_reach = time_reach[np.where(time_reach >= t_reach)]\n    #print(\"can we make it?\",time_reach[0])\n    assert len(time_reach) > 5 #need at least 5\n    follow_idx = int(0.5*len(time_reach))\n    close_idx = int(0.6*len(time_reach))\n    slow_down_idx = int(0.7*len(time_reach))-1\n\n    t_follow = time_reach[follow_idx:slow_down_idx]\n    t_slow_down = np.linspace(time_reach[slow_down_idx],2*(time_reach[slow_down_idx]-time_reach[0]) + time_reach[0],len(time_reach) - slow_down_idx )\n\n    def approach(start, end, N, exponent = 1/6):\n        x = np.linspace(start**(1/exponent), end**(1/exponent), N, endpoint = False)\n        return (x**exponent)\n \n    t_approach = approach(t_reach, time_reach[follow_idx], follow_idx, exponent = 1/10)\n\n    X_catch = [X_Winit] + list(X_reach) \n    time_catch = [t_init] + list(t_approach) + list(t_follow) + list(t_slow_down)\n\n    if do_plots:\n        plt.plot(range(len(time_catch)), time_catch, label = 'Gripper trajectory')\n        plt.plot(range(len(time_catch)), [0.0] + list(time_reach), label = 'Original Ball trajectory')\n        plt.legend()\n        plt.xlabel(\"pose\")\n        plt.ylabel(\"time [s]\")\n        plt.title(\"Catching Trajectory\")\n        plt.show()\n\n    #make gripper trajectory\n    gripper_knots = [1.1*2*sphere_r, 2*sphere_r,              2*sphere_r,          0.8*2*sphere_r,       0.7*2*sphere_r,      0.6*2*sphere_r]\n    gripper_t_lst = [         t_init,   t_reach,  time_reach[follow_idx],time_reach[follow_idx+1],time_reach[close_idx],      time_catch[-1]]\n    \n    return X_catch, time_catch, gripper_knots, gripper_t_lst\n\n",
   "outputs": [],
   "execution_count": null
  },
  {
   "cell_type": "code",
   "metadata": {
    "tags": [],
    "cell_id": "00017-94398c3a-4f3f-42cc-a6e3-dc5bfe8d16ca",
    "deepnote_to_be_reexecuted": false,
    "source_hash": "20271088",
    "execution_start": 1639167699277,
    "execution_millis": 1654,
    "deepnote_output_heights": [
     280
    ],
    "deepnote_app_coordinates": {
     "x": 0,
     "y": 198,
     "w": 12,
     "h": 5
    },
    "deepnote_cell_type": "code"
   },
   "source": "X_catch, time_catch, gripper_knots, gripper_t_lst = MakeCatchingTrajectory(None, None,0.0, [0.4,0.5, 1.5], [-1, -1, 3], RigidTransform(), do_plots = True)",
   "outputs": [
    {
     "data": {
      "text/plain": "<Figure size 432x288 with 1 Axes>",
      "image/png": "[encoded data removed]"
     },
     "metadata": {
      "needs_background": "light",
      "image/png": {
       "width": 386,
       "height": 278
      }
     },
     "output_type": "display_data"
    }
   ],
   "execution_count": null
  },
  {
   "cell_type": "markdown",
   "source": "### 5. If you can Catch, you can throw\nAfter developing our catching framework, we noticed that if you played the simulation backwards it looked like a throw!\nSo we figured that for a desired position and velocity of the ball, we just reverse the velocity and make a catching problem out of it.\nAfter finding a nice plan, we reverse the time and the poses to get the throwing trajectory. YES ITS THAT SIMPLE!",
   "metadata": {
    "tags": [],
    "cell_id": "00018-4cf227f8-562a-421b-be86-5046bcd3e20d",
    "deepnote_app_coordinates": {
     "x": 0,
     "y": 204,
     "w": 12,
     "h": 5
    },
    "deepnote_cell_type": "markdown"
   }
  },
  {
   "cell_type": "code",
   "metadata": {
    "tags": [],
    "cell_id": "00015-eee8dbb5-d5c0-47c1-aed6-379c7f545ecb",
    "deepnote_to_be_reexecuted": false,
    "source_hash": "4f87238f",
    "execution_start": 1639167700934,
    "execution_millis": 36,
    "deepnote_app_coordinates": {
     "x": 0,
     "y": 78,
     "w": 12,
     "h": 5
    },
    "deepnote_cell_type": "code"
   },
   "source": "def MakeThrowingTrajectory(X_Winit, V_Winit, t_init, p_init, v_init, offset, time_delta = 0.002, do_plots = False):\n    #throwing is reverse catching as long as there is no drag!\n    #reverse init velocity \n    v_init_catch = list(-np.array(v_init))\n    X_catch, time_catch, gripper_knots, gripper_t_lst = MakeCatchingTrajectory(X_Winit, V_Winit, 0, p_init, v_init_catch, offset)\n\n    #now we reverse everything! \n    X_throw = X_catch[::-1]\n    gripper_knots_throw =gripper_knots[::-1]\n\n    time_throw = list((time_catch[-1] - np.array(time_catch))[::-1] + t_init)\n    gripper_t_throw = list((gripper_t_lst[-1] - np.array(gripper_t_lst))[::-1] +t_init)\n\n    if do_plots:\n        plt.plot(range(len(time_catch)), time_catch, label = 'Catching trajectory')\n        plt.plot(range(len(time_throw)), list(time_throw), label = 'Throwing trajectory')\n        plt.legend()\n        plt.xlabel(\"pose\")\n        plt.ylabel(\"time [s]\")\n        plt.title(\"Throwing vs Catching Trajectory\")\n        plt.show()\n\n    \n    return X_throw, time_throw, gripper_knots_throw, gripper_t_throw",
   "outputs": [],
   "execution_count": null
  },
  {
   "cell_type": "code",
   "metadata": {
    "tags": [],
    "cell_id": "00015-8477dc01-55e7-42ca-b2b6-a4fe72ae5868",
    "deepnote_to_be_reexecuted": false,
    "source_hash": "aff663e6",
    "execution_start": 1639167700979,
    "execution_millis": 1003,
    "deepnote_output_heights": [
     280
    ],
    "deepnote_app_coordinates": {
     "x": 0,
     "y": 84,
     "w": 12,
     "h": 5
    },
    "deepnote_cell_type": "code"
   },
   "source": "X_catch, time_catch, gripper_knots, gripper_t_lst = MakeThrowingTrajectory(0, 0,1, [0.4,0.5, 1.5], [1, 1, -3], RigidTransform(), do_plots = True)",
   "outputs": [
    {
     "data": {
      "text/plain": "<Figure size 432x288 with 1 Axes>",
      "image/png": "[encoded data removed]"
     },
     "metadata": {
      "needs_background": "light",
      "image/png": {
       "width": 392,
       "height": 278
      }
     },
     "output_type": "display_data"
    }
   ],
   "execution_count": null
  },
  {
   "cell_type": "markdown",
   "source": "# LET's Catch!",
   "metadata": {
    "tags": [],
    "cell_id": "00017-fa629620-97d0-47eb-9624-aac5721cfd26",
    "deepnote_app_coordinates": {
     "x": 0,
     "y": 90,
     "w": 12,
     "h": 5
    },
    "deepnote_cell_type": "markdown"
   }
  },
  {
   "cell_type": "code",
   "metadata": {
    "tags": [],
    "cell_id": "00017-75a8075b-dbda-4f56-95c9-26e5d7de72da",
    "deepnote_to_be_reexecuted": false,
    "source_hash": "a0d9ce4a",
    "execution_start": 1639167701984,
    "execution_millis": 37,
    "deepnote_output_heights": [
     78.71875
    ],
    "deepnote_app_coordinates": {
     "x": 0,
     "y": 96,
     "w": 12,
     "h": 5
    },
    "deepnote_cell_type": "code"
   },
   "source": "def MakeCatchingEnvironmentIntegrator(p_init,v_init, real_time=1.0):\n    offset = RigidTransform()\n    time_step = 0.002\n    builder = DiagramBuilder()\n    station_diagram, plant, integrator = MakeManipulationStation(time_step,offset)\n    station = builder.AddSystem(station_diagram)\n\n    sphere = plant.GetBodyByName(\"sphere\")  \n\n    visualizer = MeshcatVisualizerCpp.AddToBuilder(\n        builder, station.GetOutputPort(\"geometry_query\"), meshcat)\n\n\n    # Find the initial pose of the gripper (as set in the default Context)\n    temp_context = station_diagram.CreateDefaultContext()\n    temp_plant_context = plant.GetMyContextFromRoot(temp_context)\n    \n    # Make Trajectories\n    X_Winit = plant.EvalBodyPoseInWorld(temp_plant_context, plant.GetBodyByName(\"body\"))\n    V_Winit = plant.EvalBodySpatialVelocityInWorld(temp_plant_context, plant.GetBodyByName(\"body\")) \n    t_init = 0.0\n\n    ####### Make actual trajectory ######\n    X_catch, time_catch, gripper_knots, gripper_t_lst = MakeCatchingTrajectory(X_Winit, V_Winit, t_init, p_init, v_init, offset)\n    gripper_knots = np.array(gripper_knots).reshape(1,len(gripper_t_lst))\n    traj = PiecewisePose.MakeLinear(time_catch, X_catch)\n\n    traj_wsg_command = PiecewisePolynomial.FirstOrderHold(gripper_t_lst, gripper_knots)\n\n    for i in range(len(X_catch)):\n        AddMeshcatTriad(meshcat, 'pose'+str(i), X_PT=X_catch[i], opacity=0.1)\n \n    pose_source = builder.AddSystem(PoseSource(traj))\n\n    #connect Pose source with stations DiffIK\n    builder.Connect(pose_source.GetOutputPort(\"Velocity\"), station.GetInputPort(\"iiwa_velocity\"))\n    \n    wsg_source = builder.AddSystem(TrajectorySource(traj_wsg_command))\n    wsg_source.set_name(\"wsg_command\")\n    builder.Connect(wsg_source.get_output_port(), station.GetInputPort(\"wsg_position\"))\n\n    diagram = builder.Build()\n\n    context = diagram.CreateDefaultContext()\n    diagram.Publish(context)\n\n    simulator = Simulator(diagram)\n    context = simulator.get_mutable_context()\n    plant_context = plant.GetMyContextFromRoot(context)\n\n    #initial condition\n    v_WSphere = SpatialVelocity(w=[0, 0, 0], v=v_init)\n    x_WSphere = RigidTransform(p=p_init)\n    plant.SetFreeBodyPose(plant_context, sphere, x_WSphere)\n    plant.SetFreeBodySpatialVelocity(context=plant_context, body=sphere, V_WB=v_WSphere)\n\n    #init integrator\n    q0 = station.GetOutputPort(\"iiwa_position_measured\").Eval(temp_context)\n    integrator.set_integral_value(integrator.GetMyContextFromRoot(simulator.get_mutable_context()), q0)\n\n    simulator.set_target_realtime_rate(real_time)\n    simulator.AdvanceTo(1e-6)\n    \n    return simulator, plant, visualizer",
   "outputs": [],
   "execution_count": null
  },
  {
   "cell_type": "code",
   "metadata": {
    "tags": [],
    "cell_id": "00028-a489fb16-4fbf-4410-a35c-a9b07fdb8cfd",
    "deepnote_to_be_reexecuted": false,
    "source_hash": "f4065ebe",
    "execution_start": 1639167702025,
    "execution_millis": 3002,
    "deepnote_output_heights": [
     290
    ],
    "deepnote_app_coordinates": {
     "x": 0,
     "y": 102,
     "w": 12,
     "h": 5
    },
    "deepnote_cell_type": "code"
   },
   "source": "meshcat.Delete()\np_sphere_init = [0.4,0.5, 1.5]\nv_sphere_init = [-1, -1, 3]\nsimulator, plant, visualizer = MakeCatchingEnvironmentIntegrator(p_sphere_init,v_sphere_init)",
   "outputs": [],
   "execution_count": null
  },
  {
   "cell_type": "code",
   "metadata": {
    "tags": [],
    "cell_id": "00020-bc4e0bed-54ff-492b-91c4-2f4d1423e037",
    "deepnote_to_be_reexecuted": false,
    "source_hash": "f7c83ed4",
    "execution_start": 1639167705362,
    "execution_millis": 6415,
    "deepnote_output_heights": [
     59.53125,
     328.109375
    ],
    "deepnote_app_coordinates": {
     "x": 0,
     "y": 108,
     "w": 12,
     "h": 5
    },
    "deepnote_cell_type": "code"
   },
   "source": "visualizer.StartRecording()\nsimulator.AdvanceTo(6)\nvisualizer.PublishRecording()",
   "outputs": [],
   "execution_count": null
  },
  {
   "cell_type": "markdown",
   "source": "# Catch and Throwback",
   "metadata": {
    "tags": [],
    "cell_id": "00022-fd85ba31-c289-4dc3-877c-76a5df0831f6",
    "deepnote_app_coordinates": {
     "x": 0,
     "y": 114,
     "w": 12,
     "h": 5
    },
    "deepnote_cell_type": "markdown"
   }
  },
  {
   "cell_type": "code",
   "metadata": {
    "tags": [],
    "cell_id": "00022-112d2d1b-56a1-4fd9-b997-fb86dc4aa352",
    "deepnote_to_be_reexecuted": false,
    "source_hash": "af7b2efb",
    "execution_start": 1639167711778,
    "execution_millis": 99,
    "deepnote_app_coordinates": {
     "x": 0,
     "y": 120,
     "w": 12,
     "h": 5
    },
    "deepnote_cell_type": "code"
   },
   "source": "def MakeThrowbackEnvironment(p_init,v_init):\n    offset = RigidTransform()\n    time_step = 0.002\n    builder = DiagramBuilder()\n    station_diagram, plant, integrator = MakeManipulationStation(time_step,offset)\n    station = builder.AddSystem(station_diagram)\n\n    sphere = plant.GetBodyByName(\"sphere\")  \n\n    visualizer = MeshcatVisualizerCpp.AddToBuilder(\n        builder, station.GetOutputPort(\"geometry_query\"), meshcat)\n\n\n    # Find the initial pose of the gripper (as set in the default Context)\n    temp_context = station_diagram.CreateDefaultContext()\n    temp_plant_context = plant.GetMyContextFromRoot(temp_context)\n    \n    # Make Trajectories\n    X_Winit = plant.EvalBodyPoseInWorld(temp_plant_context, plant.GetBodyByName(\"body\"))\n    V_Winit = plant.EvalBodySpatialVelocityInWorld(temp_plant_context, plant.GetBodyByName(\"body\")) \n    t_init = 0.0\n\n    t_pause = 1\n\n    ####### Make actual trajectory ######\n    X_catch, time_catch, gripper_knots, gripper_t_lst = MakeCatchingTrajectory(X_Winit, V_Winit, t_init, p_init, v_init, offset, 0.005)\n    X_throw, time_throw, gripper_knots_throw, gripper_t_lst_throw = MakeThrowingTrajectory(X_Winit, V_Winit, time_catch[-1] + t_pause + 0.1, p_init, list(-np.array(v_init)), offset)\n    \n    #concatenate\n    X_combined = X_catch + [X_catch[-1]] + X_throw\n    time_combined = time_catch + [time_catch[-1]+t_pause] + time_throw\n\n    gripper_knots_combined = gripper_knots[:-1] + [gripper_knots[-1]] + gripper_knots_throw\n    gripper_t_combined = gripper_t_lst[:-1]  + [gripper_t_lst[-1]+t_pause] + gripper_t_lst_throw\n    \n    gripper_knots_combined = np.array(gripper_knots_combined).reshape(1,len(gripper_t_combined))\n    \n    traj = PiecewisePose.MakeLinear(time_combined, X_combined)\n    traj_wsg_command = PiecewisePolynomial.FirstOrderHold(gripper_t_combined, gripper_knots_combined)\n    \n    pose_source = builder.AddSystem(PoseSource(traj))\n\n    #connect Pose source with stations DiffIK\n    builder.Connect(pose_source.GetOutputPort(\"Velocity\"), station.GetInputPort(\"iiwa_velocity\"))\n    \n    wsg_source = builder.AddSystem(TrajectorySource(traj_wsg_command))\n    wsg_source.set_name(\"wsg_command\")\n    builder.Connect(wsg_source.get_output_port(), station.GetInputPort(\"wsg_position\"))\n\n    diagram = builder.Build()\n\n    context = diagram.CreateDefaultContext()\n    diagram.Publish(context)\n\n    simulator = Simulator(diagram)\n    context = simulator.get_mutable_context()\n    plant_context = plant.GetMyContextFromRoot(context)\n\n    #initial condition\n    v_WSphere = SpatialVelocity(w=[0, 0, 0], v=v_init)\n    x_WSphere = RigidTransform(p=p_init)\n    plant.SetFreeBodyPose(plant_context, sphere, x_WSphere)\n    plant.SetFreeBodySpatialVelocity(context=plant_context, body=sphere, V_WB=v_WSphere)\n\n    #init integrator\n    q0 = station.GetOutputPort(\"iiwa_position_measured\").Eval(temp_context)\n    integrator.set_integral_value(integrator.GetMyContextFromRoot(simulator.get_mutable_context()), q0)\n\n    simulator.set_target_realtime_rate(1.0)\n    simulator.AdvanceTo(1e-6)\n    \n    return simulator, plant, visualizer",
   "outputs": [],
   "execution_count": null
  },
  {
   "cell_type": "code",
   "metadata": {
    "tags": [],
    "cell_id": "00024-e7c30824-661c-431e-be82-ad4ad04ec7bf",
    "deepnote_to_be_reexecuted": false,
    "source_hash": "a7a959ff",
    "execution_start": 1639167711926,
    "execution_millis": 2716,
    "deepnote_output_heights": [
     155.60000610351562
    ],
    "deepnote_app_coordinates": {
     "x": 0,
     "y": 126,
     "w": 12,
     "h": 5
    },
    "deepnote_cell_type": "code"
   },
   "source": "meshcat.Delete()\np_sphere_init = [0.4,0.5, 1.5]\nv_sphere_init = [-1, -1, 3]\nsphere_mu = 10 #need to set this higher because of non symmetric release and catch. Will fix in future\nsimulator, plant, visualizer = MakeThrowbackEnvironment(p_sphere_init,v_sphere_init)",
   "outputs": [],
   "execution_count": null
  },
  {
   "cell_type": "code",
   "metadata": {
    "tags": [],
    "cell_id": "00025-67c67329-3e8f-4c85-88ab-43260a25e6ee",
    "deepnote_to_be_reexecuted": false,
    "source_hash": "5b1eaaf",
    "execution_start": 1639167714800,
    "execution_millis": 8775,
    "deepnote_app_coordinates": {
     "x": 0,
     "y": 132,
     "w": 12,
     "h": 5
    },
    "deepnote_cell_type": "code"
   },
   "source": "visualizer.StartRecording()\nsimulator.AdvanceTo(8)\nvisualizer.PublishRecording()",
   "outputs": [],
   "execution_count": null
  },
  {
   "cell_type": "markdown",
   "source": "# Throw and Catch with two robot arms",
   "metadata": {
    "tags": [],
    "cell_id": "00025-4730b30f-e8c8-45c7-a71e-3fef46d22cf0",
    "deepnote_app_coordinates": {
     "x": 0,
     "y": 138,
     "w": 12,
     "h": 5
    },
    "deepnote_cell_type": "markdown"
   }
  },
  {
   "cell_type": "code",
   "metadata": {
    "tags": [],
    "cell_id": "00026-d8a88ae9-16b9-4f05-b198-6dc4e5bb997d",
    "deepnote_to_be_reexecuted": false,
    "source_hash": "bba80fe6",
    "execution_start": 1639167723602,
    "execution_millis": 3,
    "deepnote_app_coordinates": {
     "x": 0,
     "y": 144,
     "w": 12,
     "h": 5
    },
    "deepnote_cell_type": "code"
   },
   "source": "class ThrowBackSCL(LeafSystem):\n    def __init__(self, X_Winit, V_Winit, offset, t_init):\n        LeafSystem.__init__(self)\n        self.X_Winit = X_Winit\n        self.V_Winit = V_Winit\n        self.offset = offset\n        self.t_init = t_init\n\n        self.iiwa_traj = PiecewisePose.MakeLinear([0.0, t_init + 1], [X_Winit, X_Winit])\n        self.gripper_traj = PiecewisePolynomial.FirstOrderHold([0.0, t_init + 1], np.array([0.1,0.1]).reshape(1,2))\n\n        self.V_port = self.DeclareAbstractInputPort(\"V_WO\", AbstractValue.Make(SpatialVelocity()))\n        self.X_port = self.DeclareAbstractInputPort(\"X_WO\",AbstractValue.Make(RigidTransform()))\n\n        self.gripper_output = self.DeclareVectorOutputPort(\"gripper\", self.gripper_traj.rows(), self.CalcGripperOutput)\n        self.iiwa_velocity_output = self.DeclareVectorOutputPort(\"V_WE_desired\", 6, self.CalcVelocity)\n\n    \n    def CalcVelocity(self, context, output):\n        self.UpdatePlan(context)\n        output.set_value(self.iiwa_traj.GetVelocity(context.get_time()))\n    \n    def CalcGripperOutput(self, context, output):\n        self.UpdatePlan(context)\n        output.SetFromVector(self.gripper_traj.value(context.get_time()))\n    \n    def UpdatePlan(self, context):\n        current_time = context.get_time()\n        if current_time > self.t_init:\n            #is the ball coming towards the robot? \n            X = self.X_port.Eval(context)\n            p_init = X.translation()\n            V = self.V_port.Eval(context)\n            v_init = V.translational()\n\n            #is the ball within the sphere of interest?\n            p_OS = self.offset.translation() - p_init\n\n            if p_OS[:2].dot(v_init[:2]) > 0 and np.linalg.norm(v_init[:2]) > 0 and np.linalg.norm(p_OS) < 3:\n                #its approaching lets update!\n                ####### Make actual trajectory ######\n                t_pause = 1\n                X_catch, time_catch, gripper_knots, gripper_t_lst = MakeCatchingTrajectory(self.X_Winit, self.V_Winit, current_time, p_init, v_init, self.offset)\n                X_throw, time_throw, gripper_knots_throw, gripper_t_lst_throw = MakeThrowingTrajectory(self.X_Winit, self.V_Winit, time_catch[-1] +t_pause+ 0.1, p_init, list(-np.array(v_init)), self.offset)\n    \n                #concatenate\n                X_combined = X_catch + [X_catch[-1]] + X_throw\n                time_combined = time_catch + [time_catch[-1]+t_pause] + time_throw\n\n                gripper_knots_combined = gripper_knots[:-1] + [gripper_knots[-1]] + gripper_knots_throw\n                gripper_t_combined = gripper_t_lst[:-1]  + [gripper_t_lst[-1]+t_pause] + gripper_t_lst_throw\n    \n                gripper_knots_combined = np.array(gripper_knots_combined).reshape(1,len(gripper_t_combined))\n                \n                #update trajectory \n                self.iiwa_traj = PiecewisePose.MakeLinear(time_combined, X_combined)\n                self.gripper_traj  = PiecewisePolynomial.FirstOrderHold(gripper_t_combined, gripper_knots_combined)\n\n\n                #update time\n                self.t_init = time_combined[-1]\n\n\nclass PoseAndVelocityExtractor(LeafSystem):\n    def __init__(self, object_index):\n        LeafSystem.__init__(self)\n        self.object_index = int(object_index)\n\n        self.Xs_port = self.DeclareAbstractInputPort(\"body_poses\", AbstractValue.Make([RigidTransform()]))\n        self.Vs_port = self.DeclareAbstractInputPort(\"body_spatial_velocities\", AbstractValue.Make([SpatialVelocity()]))\n        \n        self.DeclareAbstractOutputPort(\"Pose\", lambda: AbstractValue.Make(RigidTransform()),self.CalcPose)\n        self.DeclareAbstractOutputPort(\"Velocity\", lambda: AbstractValue.Make(SpatialVelocity()),self.CalcVelocity)\n    \n    def CalcPose(self, context, output):\n        X = self.Xs_port.Eval(context)[self.object_index]\n        output.set_value(X)\n    \n    def CalcVelocity(self, context, output):\n        V = self.Vs_port.Eval(context)[self.object_index]\n        output.set_value(V)",
   "outputs": [],
   "execution_count": null
  },
  {
   "cell_type": "code",
   "metadata": {
    "tags": [],
    "cell_id": "00025-cae32bea-09ff-499e-9d3e-35faffc08bfe",
    "deepnote_to_be_reexecuted": false,
    "source_hash": "5c201256",
    "execution_start": 1639167723641,
    "execution_millis": 16,
    "deepnote_app_coordinates": {
     "x": 0,
     "y": 150,
     "w": 12,
     "h": 5
    },
    "deepnote_cell_type": "code"
   },
   "source": "def MakeThrowAndCatchEnvironment(p_init,v_init):\n    time_step = 0.002\n    builder = DiagramBuilder()\n\n    plant, scene_graph =AddMultibodyPlantSceneGraph(\n        builder, time_step=time_step)\n\n    ##################### ADD Ball and Environment #######################\n    # add ground\n    Parser(plant).AddModelFromFile('ground.urdf', \"ground\")\n    # add tennisball\n    AddShape(plant, Sphere(sphere_r), name=\"sphere\", mass=sphere_mass, mu=sphere_mu, color=sphere_color)\n    sphere = plant.GetBodyByName(\"sphere\")     \n\n    ##################### ADD ROBOT A #######################\n    offset_A = RigidTransform(RotationMatrix.MakeZRotation(-np.pi/2), p=[-1.5,0,0])\n    iiwa_A = AddIiwa(plant, offset = offset_A, name = \"iiwa_A\")\n    wsg_A = AddWsg(plant, iiwa_A, name = \"gripper_A\")\n\n    ##################### ADD ROBOT B #######################\n    offset_B = RigidTransform(RotationMatrix.MakeZRotation(-np.pi/2), p=[1.5,0,0])\n    iiwa_B = AddIiwa(plant, offset = offset_B, name = \"iiwa_B\")\n    wsg_B = AddWsg(plant, iiwa_B, name = \"gripper_B\")\n\n    plant.Finalize()\n\n    num_iiwa_positions = plant.num_positions(iiwa_A)\n    num_iiwa_velocities = plant.num_velocities(iiwa_A)\n\n    iiwa_state_A = builder.AddSystem(PassThrough(num_iiwa_positions +  num_iiwa_velocities))\n    iiwa_velocity_A = builder.AddSystem(PassThrough(6))\n    builder.ExportInput(iiwa_velocity_A.get_input_port(), \"iiwa_velocity_A\")\n\n    iiwa_state_B = builder.AddSystem(PassThrough(num_iiwa_positions +  num_iiwa_velocities))\n    iiwa_velocity_B = builder.AddSystem(PassThrough(6))\n    builder.ExportInput(iiwa_velocity_B.get_input_port(), \"iiwa_velocity_B\")\n\n    # Export the iiwa \"state\" outputs.\n    demux_A = builder.AddSystem(Demultiplexer(\n        2 * num_iiwa_positions, num_iiwa_positions))\n    builder.Connect(plant.get_state_output_port(iiwa_A), demux_A.get_input_port())\n\n    demux_B = builder.AddSystem(Demultiplexer(\n        2 * num_iiwa_positions, num_iiwa_positions))\n    builder.Connect(plant.get_state_output_port(iiwa_B), demux_B.get_input_port())\n\n    builder.ExportOutput(demux_A.get_output_port(0), \"iiwa_position_measured_A\")\n    builder.ExportOutput(demux_B.get_output_port(0), \"iiwa_position_measured_B\")\n    #builder.ExportOutput(demux_A.get_output_port(1), \"iiwa_velocity_estimated\")\n    #builder.ExportOutput(plant.get_state_output_port(iiwa_A), \"iiwa_state_estimated\")\n\n    # Make the plant for the iiwa controller to use.\n    controller_plant_A = MultibodyPlant(time_step=time_step)\n    controller_iiwa_A = AddIiwa(controller_plant_A, offset = offset_A)\n    AddWsg(controller_plant_A, controller_iiwa_A, welded=True)\n    controller_plant_A.Finalize()\n    \n    controller_plant_B = MultibodyPlant(time_step=time_step)\n    controller_iiwa_B = AddIiwa(controller_plant_B, offset = offset_B)\n    AddWsg(controller_plant_B, controller_iiwa_B, welded=True)\n    controller_plant_B.Finalize()\n\n\n    # Add the iiwa controller\n    iiwa_controller_A = builder.AddSystem(\n        InverseDynamicsController(\n            controller_plant_A,\n            kp=[100]*num_iiwa_positions,\n            ki=[1]*num_iiwa_positions,\n            kd=[20]*num_iiwa_positions,\n            has_reference_acceleration=True))\n    iiwa_controller_A.set_name(\"iiwa_controller_A\")\n    builder.Connect(\n        plant.get_state_output_port(iiwa_A), iiwa_controller_A.get_input_port_estimated_state())\n    \n    iiwa_controller_B = builder.AddSystem(\n        InverseDynamicsController(\n            controller_plant_B,\n            kp=[100]*num_iiwa_positions,\n            ki=[1]*num_iiwa_positions,\n            kd=[20]*num_iiwa_positions,\n            has_reference_acceleration=True))\n    iiwa_controller_B.set_name(\"iiwa_controller_B\")\n    builder.Connect(\n        plant.get_state_output_port(iiwa_B), iiwa_controller_B.get_input_port_estimated_state())\n\n    # Add in the feed-forward torque\n    adder_A = builder.AddSystem(Adder(2, num_iiwa_positions))\n    builder.Connect(iiwa_controller_A.get_output_port_control(),\n                    adder_A.get_input_port(0))\n    # Use a PassThrough to make the port optional (it will provide zero values if not connected).\n    torque_passthrough_A = builder.AddSystem(\n        PassThrough([0]*num_iiwa_positions))\n    builder.Connect(torque_passthrough_A.get_output_port(), adder_A.get_input_port(1))\n    #builder.ExportInput(torque_passthrough.get_input_port(), \"iiwa_feedforward_torque\")\n    builder.Connect(adder_A.get_output_port(), plant.get_actuation_input_port(iiwa_A))\n\n    builder.Connect(iiwa_state_A.get_output_port(), iiwa_controller_A.get_input_port_desired_state())\n\n    adder_B = builder.AddSystem(Adder(2, num_iiwa_positions))\n    builder.Connect(iiwa_controller_B.get_output_port_control(),\n                    adder_B.get_input_port(0))\n    # Use a PassThrough to make the port optional (it will provide zero values if not connected).\n    torque_passthrough_B = builder.AddSystem(\n        PassThrough([0]*num_iiwa_positions))\n    builder.Connect(torque_passthrough_B.get_output_port(), adder_B.get_input_port(1))\n    #builder.ExportInput(torque_passthrough.get_input_port(), \"iiwa_feedforward_torque\")\n    builder.Connect(adder_B.get_output_port(), plant.get_actuation_input_port(iiwa_B))\n\n    builder.Connect(iiwa_state_B.get_output_port(), iiwa_controller_B.get_input_port_desired_state())\n\n\n    # DiffIK Controller\n    plant_robot_A, _ = CreateIiwaControllerPlant(offset = offset_A) #create for controller\n    plant_robot_B, _ = CreateIiwaControllerPlant(offset = offset_B) #create for controller\n\n    params = DifferentialInverseKinematicsParameters(plant_robot_A.num_positions(),plant_robot_A.num_velocities())\n    params.set_timestep(time_step)\n    \n    #iiwa7_velocity_limits = np.array([1.71, 1.71,1.745, 2.26, 2.44, 3.14, 3.14])\n    params.set_joint_velocity_limits((plant_robot_A.GetVelocityLowerLimits(),plant_robot_A.GetVelocityUpperLimits()))\n\n    params.set_joint_position_limits((plant_robot_A.GetPositionLowerLimits(),plant_robot_A.GetPositionUpperLimits()))\n\n    gripper_frame_A = plant_robot_A.GetBodyByName(\"body\").body_frame()\n    robot_context_A = plant_robot_A.CreateDefaultContext()\n\n    gripper_frame_B = plant_robot_B.GetBodyByName(\"body\").body_frame()\n    robot_context_B = plant_robot_B.CreateDefaultContext()\n\n    DiffIK_A = builder.AddSystem(DifferentialIKCL(plant_robot_A, gripper_frame_A, params))                  \n    #connect DiffIK\n    builder.Connect(iiwa_velocity_A.get_output_port(), DiffIK_A.GetInputPort(\"V_WE_desired\"))\n    builder.Connect(demux_A.get_output_port(0), DiffIK_A.GetInputPort(\"iiwa_position\"))\n\n    integrator_A = builder.AddSystem(Integrator(7))\n    integrator.set_name(\"integrator_A\")\n    builder.Connect(DiffIK_A.get_output_port(), integrator_A.get_input_port())\n\n    mux_A = builder.AddSystem(Multiplexer([num_iiwa_positions, num_iiwa_velocities]))\n    builder.Connect(integrator_A.get_output_port(), mux_A.get_input_port(0))\n    builder.Connect(DiffIK_A.get_output_port(), mux_A.get_input_port(1) )\n    builder.Connect(mux_A.get_output_port(), iiwa_state_A.get_input_port())\n\n    #accelerations\n    acceleration_A = builder.AddSystem(DiscreteDerivative(7, time_step))\n    builder.Connect(DiffIK_A.get_output_port(),acceleration_A.get_input_port())\n    builder.Connect(acceleration_A.get_output_port(),iiwa_controller_A.get_input_port_desired_acceleration())\n\n    DiffIK_B = builder.AddSystem(DifferentialIKCL(plant_robot_B, gripper_frame_B, params))                  \n    #connect DiffIK\n    builder.Connect(iiwa_velocity_B.get_output_port(), DiffIK_B.GetInputPort(\"V_WE_desired\"))\n    builder.Connect(demux_B.get_output_port(0), DiffIK_B.GetInputPort(\"iiwa_position\"))\n\n    integrator_B = builder.AddSystem(Integrator(7))\n    integrator.set_name(\"integrator_B\")\n    builder.Connect(DiffIK_B.get_output_port(), integrator_B.get_input_port())\n\n    mux_B = builder.AddSystem(Multiplexer([num_iiwa_positions, num_iiwa_velocities]))\n    builder.Connect(integrator_B.get_output_port(), mux_B.get_input_port(0))\n    builder.Connect(DiffIK_B.get_output_port(), mux_B.get_input_port(1) )\n    builder.Connect(mux_B.get_output_port(), iiwa_state_B.get_input_port())\n\n    #accelerations\n    acceleration_B = builder.AddSystem(DiscreteDerivative(7, time_step))\n    builder.Connect(DiffIK_B.get_output_port(),acceleration_B.get_input_port())\n    builder.Connect(acceleration_B.get_output_port(),iiwa_controller_B.get_input_port_desired_acceleration())\n\n\n    # Wsg controller.\n    wsg_controller_A = builder.AddSystem(SchunkWsgPositionController(kp_command=2000.0, kd_command=5.0, kp_constraint=2000.0, kd_constraint=5.0, default_force_limit=40.0))\n    wsg_controller_A.set_name(\"wsg_controller_A\")\n    builder.Connect(wsg_controller_A.get_generalized_force_output_port(),             \n                    plant.get_actuation_input_port(wsg_A))\n    builder.Connect(plant.get_state_output_port(wsg_A), wsg_controller_A.get_state_input_port())\n    builder.ExportInput(wsg_controller_A.get_desired_position_input_port(), \"wsg_position_A\")\n    #builder.ExportInput(wsg_controller.get_force_limit_input_port(), \"wsg_force_limit\")\n    wsg_mbp_state_to_wsg_state_A = builder.AddSystem(\n        MakeMultibodyStateToWsgStateSystem())\n    builder.Connect(plant.get_state_output_port(wsg_A), wsg_mbp_state_to_wsg_state_A.get_input_port())\n    #builder.ExportOutput(wsg_mbp_state_to_wsg_state_A.get_output_port(), \"wsg_state_measured\")\n    #builder.ExportOutput(wsg_controller.get_grip_force_output_port(), \"wsg_force_measured\")\n\n    # Wsg controller.\n    wsg_controller_B = builder.AddSystem(SchunkWsgPositionController(kp_command=2000.0, kd_command=5.0, kp_constraint=2000.0, kd_constraint=5.0, default_force_limit=40.0))\n    wsg_controller_B.set_name(\"wsg_controller_B\")\n    builder.Connect(wsg_controller_B.get_generalized_force_output_port(),             \n                    plant.get_actuation_input_port(wsg_B))\n    builder.Connect(plant.get_state_output_port(wsg_B), wsg_controller_B.get_state_input_port())\n    builder.ExportInput(wsg_controller_B.get_desired_position_input_port(), \"wsg_position_B\")\n    #builder.ExportInput(wsg_controller.get_force_limit_input_port(), \"wsg_force_limit\")\n    wsg_mbp_state_to_wsg_state_B = builder.AddSystem(\n        MakeMultibodyStateToWsgStateSystem())\n    builder.Connect(plant.get_state_output_port(wsg_B), wsg_mbp_state_to_wsg_state_B.get_input_port())\n    #builder.ExportOutput(wsg_mbp_state_to_wsg_state_A.get_output_port(), \"wsg_state_measured\")\n    #builder.ExportOutput(wsg_controller.get_grip_force_output_port(), \"wsg_force_measured\")\n\n    builder.ExportOutput(plant.get_body_poses_output_port(), \"body_poses\")\n    builder.ExportOutput(plant.get_body_spatial_velocities_output_port(), \"body_velocities\")\n\n    ######################################################################\n    visualizer = MeshcatVisualizerCpp.AddToBuilder(builder, scene_graph, meshcat)\n    \n    diagram = builder.Build()\n\n    # Find the initial pose of the gripper (as set in the default Context)\n    station_context = diagram.CreateDefaultContext()\n    station_plant_context = plant.GetMyContextFromRoot(station_context)\n    \n    X_Winit_A = plant.EvalBodyPoseInWorld(station_plant_context, plant.GetBodyByName(\"body\", wsg_A))\n    V_Winit_A = plant.EvalBodySpatialVelocityInWorld(station_plant_context, plant.GetBodyByName(\"body\",wsg_A)) \n\n    X_Winit_B = plant.EvalBodyPoseInWorld(station_plant_context, plant.GetBodyByName(\"body\",wsg_B))\n    V_Winit_B = plant.EvalBodySpatialVelocityInWorld(station_plant_context, plant.GetBodyByName(\"body\",wsg_B)) \n\n    #########################################################\n    builder = DiagramBuilder()\n    builder.AddSystem(diagram)\n    \n    #connect the Throwback controller!\n\n    throwback_controller_A = builder.AddSystem(ThrowBackSCL(X_Winit_A, V_Winit_A, offset_A, 0))\n\n\n    builder.Connect(throwback_controller_A.GetOutputPort(\"V_WE_desired\"), diagram.GetInputPort(\"iiwa_velocity_A\"))\n    builder.Connect(throwback_controller_A.GetOutputPort(\"gripper\"), diagram.GetInputPort(\"wsg_position_A\"))\n\n    extractor = builder.AddSystem(PoseAndVelocityExtractor(int(sphere.index())))\n    builder.Connect(diagram.GetOutputPort(\"body_poses\"), extractor.GetInputPort(\"body_poses\"))\n    builder.Connect(diagram.GetOutputPort(\"body_velocities\"), extractor.GetInputPort(\"body_spatial_velocities\"))\n\n    builder.Connect(extractor.GetOutputPort(\"Pose\"), throwback_controller_A.GetInputPort(\"X_WO\"))\n    builder.Connect(extractor.GetOutputPort(\"Velocity\"), throwback_controller_A.GetInputPort(\"V_WO\"))\n\n    throwback_controller_B = builder.AddSystem(ThrowBackSCL(X_Winit_B, V_Winit_B, offset_B, 0))\n\n    builder.Connect(throwback_controller_B.GetOutputPort(\"V_WE_desired\"), diagram.GetInputPort(\"iiwa_velocity_B\"))\n    builder.Connect(throwback_controller_B.GetOutputPort(\"gripper\"), diagram.GetInputPort(\"wsg_position_B\"))\n\n    builder.Connect(extractor.GetOutputPort(\"Pose\"), throwback_controller_B.GetInputPort(\"X_WO\"))\n    builder.Connect(extractor.GetOutputPort(\"Velocity\"), throwback_controller_B.GetInputPort(\"V_WO\"))\n\n\n\n    q0_A = diagram.GetOutputPort(\"iiwa_position_measured_A\").Eval(station_context)\n    q0_B = diagram.GetOutputPort(\"iiwa_position_measured_B\").Eval(station_context)\n\n    diagram = builder.Build()\n\n    context = diagram.CreateDefaultContext()\n    diagram.Publish(context)\n\n    simulator = Simulator(diagram)\n    context = simulator.get_mutable_context()\n    plant_context = plant.GetMyContextFromRoot(context)\n\n    #initial condition\n    v_WSphere = SpatialVelocity(w=[0, 0, 0], v=v_init)\n    x_WSphere = RigidTransform(p=p_init)\n    plant.SetFreeBodyPose(plant_context, sphere, x_WSphere)\n    plant.SetFreeBodySpatialVelocity(context=plant_context, body=sphere, V_WB=v_WSphere)\n\n    #init integrator\n\n    integrator_A.set_integral_value(integrator_A.GetMyContextFromRoot(simulator.get_mutable_context()), q0_A)\n    integrator_B.set_integral_value(integrator_B.GetMyContextFromRoot(simulator.get_mutable_context()), q0_B)\n\n    simulator.set_target_realtime_rate(1.0)\n    simulator.AdvanceTo(1e-6)\n    \n    return simulator, plant, visualizer",
   "outputs": [],
   "execution_count": null
  },
  {
   "cell_type": "code",
   "metadata": {
    "tags": [],
    "cell_id": "00027-96a7e79d-27ef-467d-ab7f-79bf03852824",
    "deepnote_to_be_reexecuted": false,
    "source_hash": "d57d5dd2",
    "execution_start": 1639167789384,
    "execution_millis": 2777,
    "deepnote_output_heights": [
     611,
     317.79998779296875
    ],
    "deepnote_app_coordinates": {
     "x": 0,
     "y": 156,
     "w": 12,
     "h": 5
    },
    "deepnote_cell_type": "code"
   },
   "source": "meshcat.Delete()\np_sphere_init = [1.5,0, 0.4]\nv_sphere_init = [-3, 0, 6]\n\np_sphere_init = [0,0, 2]\nv_sphere_init = [-3, 0, 0]\nsphere_mu = 10 #need to set this higher because of non symmetric release and catch. Will fix in future\nsimulator, plant, visualizer = MakeThrowAndCatchEnvironment(p_sphere_init,v_sphere_init)\n\n",
   "outputs": [],
   "execution_count": null
  },
  {
   "cell_type": "code",
   "metadata": {
    "tags": [],
    "cell_id": "00033-fb810a60-207e-4893-9868-f775c8cfc587",
    "deepnote_to_be_reexecuted": false,
    "source_hash": "305920cf",
    "execution_start": 1639167792189,
    "execution_millis": 39023,
    "deepnote_app_coordinates": {
     "x": 0,
     "y": 162,
     "w": 12,
     "h": 5
    },
    "deepnote_cell_type": "code"
   },
   "source": "visualizer.StartRecording()\nsimulator.AdvanceTo(12)\nvisualizer.PublishRecording()",
   "outputs": [],
   "execution_count": null
  },
  {
   "cell_type": "code",
   "metadata": {
    "tags": [],
    "cell_id": "00021-6eb552e4-90da-4995-a859-c9dd3267d7bc",
    "deepnote_to_be_reexecuted": true,
    "source_hash": "fa73f438",
    "execution_start": 1638821663594,
    "execution_millis": 0,
    "deepnote_app_coordinates": {
     "x": 0,
     "y": 168,
     "w": 12,
     "h": 5
    },
    "deepnote_cell_type": "code"
   },
   "source": "#html = meshcat.StaticHtml() you can save the simulation!",
   "outputs": [],
   "execution_count": null
  },
  {
   "cell_type": "markdown",
   "source": "<a style='text-decoration:none;line-height:16px;display:flex;color:#5B5B62;padding:10px;justify-content:end;' href='https://deepnote.com?utm_source=created-in-deepnote-cell&projectId=3ffed1bb-60d7-4025-872d-1c12596bf740' target=\"_blank\">\n<img alt='Created in deepnote.com' style='display:inline;max-height:16px;margin:0px;margin-right:7.5px;' src='data:image/svg+xml;base64,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' > </img>\nCreated in <span style='font-weight:600;margin-left:4px;'>Deepnote</span></a>",
   "metadata": {
    "tags": [],
    "created_in_deepnote_cell": true,
    "deepnote_cell_type": "markdown"
   }
  }
 ],
 "nbformat": 4,
 "nbformat_minor": 2,
 "metadata": {
  "orig_nbformat": 2,
  "deepnote": {
   "is_reactive": false
  },
  "deepnote_notebook_id": "e8fb834f-144e-4cd2-9bb9-a7f04c7d71c2",
  "deepnote_execution_queue": [],
  "deepnote_app_layout": "article"
 }
}